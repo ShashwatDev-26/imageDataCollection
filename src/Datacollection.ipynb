{
 "cells": [
  {
   "cell_type": "markdown",
   "id": "9cf0eac1",
   "metadata": {},
   "source": [
    "***\n",
    "# Collecting image Data for Detection\n",
    "***"
   ]
  },
  {
   "cell_type": "code",
   "execution_count": 1,
   "id": "a7ee34e1",
   "metadata": {},
   "outputs": [],
   "source": [
    "from Data_Collection import detectionDataCollection\n",
    "dtest = detectionDataCollection(\"Train\")\n"
   ]
  },
  {
   "cell_type": "code",
   "execution_count": 4,
   "id": "b62089ee",
   "metadata": {},
   "outputs": [
    {
     "name": "stdout",
     "output_type": "stream",
     "text": [
      "[*] Camera is initiating with Source-ID: 0\n",
      "[*] Camera is initiated successfully.\n",
      "\n",
      "    ****************************************************************************\n",
      "                                  Directory structure\n",
      "    ****************************************************************************\n",
      "\n",
      "|->  c:\\Workstation\\BasicProgramming\\Annotation_Console\\imageDataCollection\\src\\DetectionDataset\\Train\n",
      "    |-> c:\\Workstation\\BasicProgramming\\Annotation_Console\\imageDataCollection\\src\\DetectionDataset\\Train\\images\n",
      "    |-> c:\\Workstation\\BasicProgramming\\Annotation_Console\\imageDataCollection\\src\\DetectionDataset\\Train\\labels\n",
      "\n",
      "\n",
      "    \n",
      "[*] Frame not found! \n"
     ]
    }
   ],
   "source": [
    "\n",
    "dtest.set_sourceID(0)\n",
    "dtest.set_nSamples(5)\n",
    "dtest.set_Timer(3)\n",
    "dtest.camera_init_()\n",
    "dtest.annotation()\n",
    "dtest.get_json()"
   ]
  },
  {
   "cell_type": "markdown",
   "id": "5a0f218b",
   "metadata": {},
   "source": [
    "# Data Collection For classification"
   ]
  },
  {
   "cell_type": "code",
   "execution_count": 4,
   "id": "e1d84e79",
   "metadata": {},
   "outputs": [],
   "source": [
    "from Data_Collection import classificationDataCollection\n",
    "test = classificationDataCollection(\"train\")"
   ]
  },
  {
   "cell_type": "code",
   "execution_count": 5,
   "id": "2a3fe9da",
   "metadata": {},
   "outputs": [
    {
     "name": "stdout",
     "output_type": "stream",
     "text": [
      "[*] Camera is initialised with Source-ID: 1\n",
      "[*] Capturing Done of 011s Frames\n",
      "[*] Object already exist: \n",
      "[*] Capturing Done of 022s Frames\n",
      "[*] Capturing Done of 022s Frames\n",
      "[*] Object already exist: \n",
      "[*] Capturing Done of 044s Frames\n",
      "[*] Stopped by User\n"
     ]
    }
   ],
   "source": [
    "test.set_SourceID(1)\n",
    "test.set_semples(10)\n",
    "test.set_timer(5)\n",
    "test.camera_init_()\n",
    "test.imageCropingAndCapturing()"
   ]
  },
  {
   "cell_type": "markdown",
   "id": "a958641a",
   "metadata": {},
   "source": []
  }
 ],
 "metadata": {
  "kernelspec": {
   "display_name": "base",
   "language": "python",
   "name": "python3"
  },
  "language_info": {
   "codemirror_mode": {
    "name": "ipython",
    "version": 3
   },
   "file_extension": ".py",
   "mimetype": "text/x-python",
   "name": "python",
   "nbconvert_exporter": "python",
   "pygments_lexer": "ipython3",
   "version": "3.11.7"
  }
 },
 "nbformat": 4,
 "nbformat_minor": 5
}
