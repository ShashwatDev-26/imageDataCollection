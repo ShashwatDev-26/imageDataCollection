{
 "cells": [
  {
   "cell_type": "markdown",
   "id": "9cf0eac1",
   "metadata": {},
   "source": [
    "***\n",
    "# Data Collection For Detection \n",
    "***"
   ]
  },
  {
   "cell_type": "code",
   "execution_count": null,
   "id": "a7ee34e1",
   "metadata": {},
   "outputs": [],
   "source": [
    "from Data_Collection import detectionDataCollection\n",
    "dtest = detectionDataCollection(\"Train\")\n",
    "path = \"..\\..\\src\\Test.mp4\""
   ]
  },
  {
   "cell_type": "markdown",
   "id": "e74f8145",
   "metadata": {},
   "source": [
    "## Instructions\n",
    "\n",
    "***\n",
    "\n",
    "* To create a bounding box around an object, press and hold **Ctrl** while simultaneously pressing the **left mouse button**. Drag the cursor to encompass the desired object within the box.\n",
    "\n",
    "* To assign a name to the object, **right-click** within the bounding box. Alternatively, repeat the bounding box creation process as described above.\n",
    "\n",
    "* Enter the object's name in the console and press **Enter** to confirm.\n",
    "\n",
    "* Multiple objects can be labeled sequentially by repeating the aforementioned steps for each object.\n",
    "\n",
    "* Initiate the timer by pressing and holding **Ctrl** while **right-clicking**.\n",
    "\n",
    "* Please note that once image capture has commenced, redrawing bounding boxes is disabled until the capture process is complete.\n",
    "* To terminate the process, press the Esc key."
   ]
  },
  {
   "cell_type": "code",
   "execution_count": 4,
   "id": "b62089ee",
   "metadata": {},
   "outputs": [
    {
     "name": "stdout",
     "output_type": "stream",
     "text": [
      "[*] Video playback speed set on 15:\n",
      "[*] Long press ESC to exit:\n",
      "[*] Camera is initiating with Source-ID: C:\\Workstation\\BasicProgramming\\Test\\src\\Test.mp4\n",
      "[*] Camera might not Support this resolution '480 X 640' \n",
      "[*] Using default resolution with resized shape:\n",
      "[*] HEIGHT  : 1080.0 px\n",
      "[*] WIDTH   : 1920.0 px\n",
      "[*] Please wait.......\n",
      "[*] Camera is initiated successfully.\n",
      "\n",
      "    ****************************************************************************\n",
      "                                  Directory structure\n",
      "    ****************************************************************************\n",
      "    c:\\Workstation\\BasicProgramming\\GitPullBatfile\\imageDataCollection\\src\\detectionDataset\\Train\n",
      "    |____c:\\Workstation\\BasicProgramming\\GitPullBatfile\\imageDataCollection\\src\\detectionDataset\\Train\\images\n",
      "    |____c:\\Workstation\\BasicProgramming\\GitPullBatfile\\imageDataCollection\\src\\detectionDataset\\Train\\labels\n",
      "    |__c:\\Workstation\\BasicProgramming\\GitPullBatfile\\imageDataCollection\\src\\detectionDataset\\data.yaml\n",
      "    \n",
      "[*] Yaml file is Added: \n",
      "[*] Stopped by user \n"
     ]
    }
   ],
   "source": [
    "\n",
    "# dtest.set_sourceID(0)\n",
    "dtest.set_sourceID(path)\n",
    "dtest.set_playback_speed(15)\n",
    "dtest.set_nSamples(1)\n",
    "dtest.set_Timer(5)\n",
    "dtest.camera_init_()\n",
    "dtest.annotation()"
   ]
  },
  {
   "cell_type": "markdown",
   "id": "5a0f218b",
   "metadata": {},
   "source": [
    "***\n",
    "# Data Collection For classification\n",
    "***"
   ]
  },
  {
   "cell_type": "code",
   "execution_count": null,
   "id": "e1d84e79",
   "metadata": {},
   "outputs": [],
   "source": [
    "from Data_Collection import classificationDataCollection\n",
    "test = classificationDataCollection(\"Train\")\n",
    "path = \"..\\..\\src\\Test.mp4\""
   ]
  },
  {
   "cell_type": "markdown",
   "id": "02c42ac2",
   "metadata": {},
   "source": [
    "## Instructions for Use\n",
    "***\n",
    "*   To designate an object, **left-click** and drag the cursor to create a bounding box encompassing the desired item.\n",
    "*   **Right-click** within the bounding box to input the object's name.\n",
    "*   Upon pressing **Enter**, the data acquisition timer will commence.\n",
    "*   Data capture will proceed for the specified number of samples.\n",
    "*   To terminate the process, press the **Esc** key."
   ]
  },
  {
   "cell_type": "code",
   "execution_count": 4,
   "id": "2a3fe9da",
   "metadata": {},
   "outputs": [
    {
     "name": "stdout",
     "output_type": "stream",
     "text": [
      "[*] Video playback speed set on 15:\n",
      "[*] Long press ESC to exit:\n",
      "[*] Timer has changed 5\n",
      "[*] Camera is initialised with Source-ID: C:\\Workstation\\BasicProgramming\\Test\\src\\Test.mp4\n",
      "[*] Camera might not Support this resolution '480 X 640' \n",
      "[*] Using default resolution with resized shape: \n",
      "[*] HEIGHT  : 1080.0 px\n",
      "[*] WIDTH   : 1920.0 px\n",
      "[*] Please wait.......\n",
      "[*] Capturing Done of 010s Frames\n",
      "[*] Capturing Done of 010s Frames\n",
      "[*] Capturing Done of 010s Frames\n",
      "[*] Stopped by User\n"
     ]
    }
   ],
   "source": [
    "test = classificationDataCollection()\n",
    "test.set_SourceID(path)\n",
    "# test.set_SourceID(0)\n",
    "# test.set_timer(5)\n",
    "test.set_semples(10)\n",
    "test.set_playback_speed(15)\n",
    "test.camera_init_()\n",
    "test.imageCropingAndCapturing()\n",
    "\n"
   ]
  },
  {
   "cell_type": "code",
   "execution_count": null,
   "id": "bd3ef43c",
   "metadata": {},
   "outputs": [],
   "source": []
  }
 ],
 "metadata": {
  "kernelspec": {
   "display_name": "base",
   "language": "python",
   "name": "python3"
  },
  "language_info": {
   "codemirror_mode": {
    "name": "ipython",
    "version": 3
   },
   "file_extension": ".py",
   "mimetype": "text/x-python",
   "name": "python",
   "nbconvert_exporter": "python",
   "pygments_lexer": "ipython3",
   "version": "3.11.7"
  }
 },
 "nbformat": 4,
 "nbformat_minor": 5
}
