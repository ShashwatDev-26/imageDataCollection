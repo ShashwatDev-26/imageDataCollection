{
 "cells": [
  {
   "cell_type": "markdown",
   "id": "9cf0eac1",
   "metadata": {},
   "source": [
    "***\n",
    "# Data Collection For Detection \n",
    "***"
   ]
  },
  {
   "cell_type": "code",
   "execution_count": 1,
   "id": "a7ee34e1",
   "metadata": {},
   "outputs": [],
   "source": [
    "from imageDetection import detectionDataCollection\n",
    "dtest = detectionDataCollection(\"Train\")"
   ]
  },
  {
   "cell_type": "code",
   "execution_count": null,
   "id": "b62089ee",
   "metadata": {},
   "outputs": [
    {
     "name": "stdout",
     "output_type": "stream",
     "text": [
      "[*] Camera is initiating with Source-ID: 0\n",
      "[*] Camera is initiated successfully.\n",
      "\n",
      "    ****************************************************************************\n",
      "                                  Directory structure\n",
      "    ****************************************************************************\n",
      "\n",
      "|->  c:\\Workstation\\BasicProgramming\\Annotation_Console\\Testenv\\src\\DetectionDataset\\Train\n",
      "    |-> c:\\Workstation\\BasicProgramming\\Annotation_Console\\Testenv\\src\\DetectionDataset\\Train\\images\n",
      "    |-> c:\\Workstation\\BasicProgramming\\Annotation_Console\\Testenv\\src\\DetectionDataset\\Train\\labels\n",
      "\n",
      "\n",
      "    \n",
      "[*] Stopped by user \n"
     ]
    }
   ],
   "source": [
    "\n",
    "dtest.set_sourceID(0)\n",
    "dtest.set_nSamples(5)\n",
    "dtest.set_Timer(3)\n",
    "dtest.camera_init_()\n",
    "dtest.annotation()"
   ]
  },
  {
   "cell_type": "markdown",
   "id": "5a0f218b",
   "metadata": {},
   "source": [
    "***\n",
    "# Data Collection For classification\n",
    "***"
   ]
  },
  {
   "cell_type": "code",
   "execution_count": 1,
   "id": "e1d84e79",
   "metadata": {},
   "outputs": [],
   "source": [
    "from imageClassification import classificationDataCollection\n",
    "test = classificationDataCollection(\"train\")"
   ]
  },
  {
   "cell_type": "code",
   "execution_count": 2,
   "id": "2a3fe9da",
   "metadata": {},
   "outputs": [
    {
     "name": "stdout",
     "output_type": "stream",
     "text": [
      "[*] Camera is initialised with Source-ID: 0\n",
      "[*] Capturing Done of 011s Frames\n",
      "[*] Stopped by User\n"
     ]
    }
   ],
   "source": [
    "test.set_SourceID(0)\n",
    "test.set_semples(10)\n",
    "test.set_timer(5)\n",
    "test.camera_init_()\n",
    "test.imageCropingAndCapturing()"
   ]
  },
  {
   "cell_type": "markdown",
   "id": "a958641a",
   "metadata": {},
   "source": []
  }
 ],
 "metadata": {
  "kernelspec": {
   "display_name": "myenv",
   "language": "python",
   "name": "python3"
  },
  "language_info": {
   "codemirror_mode": {
    "name": "ipython",
    "version": 3
   },
   "file_extension": ".py",
   "mimetype": "text/x-python",
   "name": "python",
   "nbconvert_exporter": "python",
   "pygments_lexer": "ipython3",
   "version": "3.11.7"
  }
 },
 "nbformat": 4,
 "nbformat_minor": 5
}
