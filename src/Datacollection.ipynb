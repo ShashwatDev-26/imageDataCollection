{
 "cells": [
  {
   "cell_type": "markdown",
   "id": "9cf0eac1",
   "metadata": {},
   "source": [
    "***\n",
    "# Collect data with Opencv\n",
    "***"
   ]
  },
  {
   "cell_type": "code",
   "execution_count": 1,
   "id": "789abbe2",
   "metadata": {},
   "outputs": [],
   "source": [
    "  \n",
    "import os\n",
    "import cv2\n",
    "import time\n",
    "   "
   ]
  },
  {
   "cell_type": "code",
   "execution_count": null,
   "id": "a3618d0c",
   "metadata": {},
   "outputs": [],
   "source": [
    "alphalist = str(\"A B C D E F G H I J K L M N O P Q R S T U V W X Y Z\").split(\" \")\n",
    "hostpath  = os.getcwd()\n",
    "root      = os.path.join(hostpath,\"images\")"
   ]
  },
  {
   "cell_type": "markdown",
   "id": "15eeaf01",
   "metadata": {},
   "source": [
    "***\n",
    "# Data Collection Through video\n",
    "***"
   ]
  },
  {
   "cell_type": "code",
   "execution_count": null,
   "id": "67a583c0",
   "metadata": {},
   "outputs": [],
   "source": [
    "from Data_Collection import videoCap, FrameExtractor\n",
    "v = videoCap(root)\n",
    "ext = FrameExtractor(v.filepath)\n",
    "\n",
    "for i in alphalist:\n",
    "    v.set_O_path(os.path.join(root,str(i)))\n",
    "    v.camera_init_('Apple.mp4',0,20,(640,480))\n",
    "    v.recording()\n",
    "    ext.set_video_path(v.filepath)\n",
    "    print(\"[*] Extrecting Frame...\")\n",
    "    ext.extract_frames_()\n",
    "    print(f\"{i} Data collected.....\")\n",
    "\n"
   ]
  },
  {
   "cell_type": "markdown",
   "id": "f94c0fa3",
   "metadata": {},
   "source": [
    "***\n",
    "# Capture image and Annotate with bounding Box\n",
    "***"
   ]
  },
  {
   "cell_type": "code",
   "execution_count": null,
   "id": "4f3a157f",
   "metadata": {},
   "outputs": [],
   "source": [
    "classlist =  \"A,B\".split(\",\")\n",
    "\n",
    "def annotation_capture(Foldername=\"train\",samples=30,classlist=None):\n",
    "\n",
    "    \"\"\"\n",
    "        Foldername : select the folder name for test,train,valid: Default train\n",
    "                     \n",
    "        samples    : Number of samples you want: Default 30\n",
    "\n",
    "    \"\"\"\n",
    "\n",
    "    from Data_Collection import cameraFrameAnotation\n",
    "\n",
    "    x = cameraFrameAnotation()\n",
    "    if classlist==None:\n",
    "        print(\" Provide A class list \")\n",
    "        return -1\n",
    "    \n",
    "    \n",
    "    image_path  =  os.path.join(hostpath,\"Annotation\",Foldername,\"image\")\n",
    "    label_path  =  os.path.join(hostpath,\"Annotation\",Foldername,\"labels\")\n",
    "\n",
    "    for i in classlist:\n",
    "        ipath = os.path.join(image_path,str(i))\n",
    "        lpath = os.path.join(label_path,str(i))\n",
    "\n",
    "        os.makedirs(ipath,exist_ok=True)\n",
    "        os.makedirs(lpath,exist_ok=True)\n",
    "\n",
    "        x.camera_init_(0)\n",
    "        x.capture(save_dir=ipath,Frame_cap=samples,timer=6,)\n",
    "        print(x.coordinatesli)\n",
    "        coordinates    = x.coordinatesli\n",
    "        \n",
    "        for k in range(len(coordinates)):\n",
    "            RoiX1,RoiY1  = coordinates[k][0][0],coordinates[k][0][1]\n",
    "            RoiX2,RoiY2  = coordinates[k][1][0],coordinates[k][1][1]\n",
    "            width,height = coordinates[k][2][0],coordinates[k][2][1]\n",
    "            \n",
    "            text_path    =  os.path.join(lpath,f'batch_{k}.txt')\n",
    "            \n",
    "            with open(text_path,\"w\") as file:\n",
    "                file.write(f\"{i} {width} {height} {RoiX1} {RoiY2} {RoiX2} {RoiY2}\")\n"
   ]
  },
  {
   "cell_type": "code",
   "execution_count": null,
   "id": "13036a93",
   "metadata": {},
   "outputs": [],
   "source": [
    "annotation_capture(\"train\",150,classlist=classlist)\n",
    "# annotation_capture(\"test\",55,classlist=classlist)\n",
    "# annotation_capture(\"valid\",35,classlist=classlist)"
   ]
  },
  {
   "cell_type": "code",
   "execution_count": null,
   "id": "1dae36c8",
   "metadata": {},
   "outputs": [],
   "source": []
  }
 ],
 "metadata": {
  "kernelspec": {
   "display_name": "Annotation_Console",
   "language": "python",
   "name": "python3"
  },
  "language_info": {
   "codemirror_mode": {
    "name": "ipython",
    "version": 3
   },
   "file_extension": ".py",
   "mimetype": "text/x-python",
   "name": "python",
   "nbconvert_exporter": "python",
   "pygments_lexer": "ipython3",
   "version": "3.11.7"
  }
 },
 "nbformat": 4,
 "nbformat_minor": 5
}
